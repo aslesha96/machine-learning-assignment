{
 "cells": [
  {
   "cell_type": "code",
   "execution_count": 1,
   "metadata": {},
   "outputs": [],
   "source": [
    "import test_dp               # required for testing and grading your code\n",
    "import gridworld_mdp as gw   # defines the MDP for a 4x4 gridworld\n",
    "import numpy as np"
   ]
  },
  {
   "cell_type": "code",
   "execution_count": 8,
   "metadata": {},
   "outputs": [
    {
     "name": "stdout",
     "output_type": "stream",
     "text": [
      "transition(2, up): next_state= 2 , reward= -1 , probability= 1\n",
      "transition(2, down): next_state= 6 , reward= -1 , probability= 1\n",
      "transition(2, left): next_state= 1 , reward= -1 , probability= 1\n",
      "transition(2, right): next_state= 3 , reward= -1 , probability= 1\n"
     ]
    }
   ],
   "source": [
    "\n",
    "state = 2\n",
    "actions = gw.get_available_actions(state)\n",
    "\n",
    "for action in actions:\n",
    "    transitions = gw.get_transitions(state=state, action=action)\n",
    "\n",
    "    # examine each return transition (only 1 per call for this MDP)\n",
    "    for (trans) in transitions:\n",
    "        next_state, reward, probability = trans    # unpack tuple\n",
    "        print(\"transition(\"+ str(state) + \", \" + action + \"):\", \"next_state=\", next_state, \", reward=\", reward, \", probability=\", probability)"
   ]
  },
  {
   "cell_type": "markdown",
   "metadata": {},
   "source": [
    "**Implement the algorithm for Iterative Policy Evaluation using the 2 array approach**.  In the 2 array approach, one array holds the value estimates for each state computed on the previous iteration, and one array holds the value estimates for the states computing in the current iteration.\n",
    "\n",
    "A empty function **policy_eval_two_arrays** is provided below; implement the body of the function to correctly calculate the value of the policy using the 2 array approach.  The function defines 5 parameters - a definition of each parameter is given in the comment block for the function.  For sample parameter values, see the calling code in the cell following the function."
   ]
  },
  {
   "cell_type": "code",
   "execution_count": 3,
   "metadata": {},
   "outputs": [],
   "source": [
    "def policy_eval_two_arrays(state_count, gamma, theta, get_policy, get_transitions):\n",
    "   \n",
    "    V = state_count*[0]\n",
    "    #\n",
    "    # INSERT CODE HERE to evaluate the policy using the 2 array approach \n",
    "    #\n",
    "    while True:\n",
    "        delta = 0\n",
    "        for s in range(state_count):\n",
    "            v = 0\n",
    "            for a, action_prob in get_policy(s):\n",
    "                for  next_state, reward,prob in get_transitions(s,a):\n",
    "                    v += action_prob * prob * (reward + gamma * V[next_state])\n",
    "            delta = max(delta, abs(v - V[s]))\n",
    "            V[s] = v\n",
    "        if delta < theta:\n",
    "            break\n",
    "    \n",
    "    return V"
   ]
  },
  {
   "cell_type": "code",
   "execution_count": 9,
   "metadata": {},
   "outputs": [
    {
     "name": "stdout",
     "output_type": "stream",
     "text": [
      "Values= [0.0, -5.275906485600302, -7.125803667372325, -7.647729922717661, -5.275906485600302, -6.604213913250977, -7.1785079112764745, -7.126384243656092, -7.125803667372325, -7.178507911276475, -6.604678371775787, -5.276663994322859, -7.647729922717662, -7.1263842436560925, -5.27666399432286]\n"
     ]
    }
   ],
   "source": [
    "def get_equal_policy(state):\n",
    "    # build a simple policy where all 4 actions have the same probability, ignoring the specified state\n",
    "    policy = ( (\"up\", .25), (\"right\", .25), (\"down\",.25), (\"left\", .25))\n",
    "    return policy\n",
    "\n",
    "n_states = gw.get_state_count()\n",
    "\n",
    "# test our function\n",
    "values = policy_eval_two_arrays(state_count=n_states, gamma=.9, theta=.001, get_policy=get_equal_policy, \\\n",
    "    get_transitions=gw.get_transitions)\n",
    "\n",
    "print(\"Values=\", values)"
   ]
  },
  {
   "cell_type": "markdown",
   "metadata": {},
   "source": [
    "**Expected output from running above cell:**\n",
    "\n",
    "`\n",
    "Values= [0.0, -5.274709263277986, -7.123800104889248, -7.64536148969558, -5.274709263277987, -6.602238720082915, -7.17604178238719, -7.1238001048892485, -7.1238001048892485, -7.176041782387191, -6.602238720082915, -5.274709263277986, -7.645361489695581, -7.1238001048892485, -5.274709263277986]\n",
    "`"
   ]
  },
  {
   "cell_type": "code",
   "execution_count": 10,
   "metadata": {},
   "outputs": [
    {
     "data": {
      "text/plain": [
       "array([[ 0.        , -5.27590649, -7.12580367, -7.64772992],\n",
       "       [-5.27590649, -6.60421391, -7.17850791, -7.12638424],\n",
       "       [-7.12580367, -7.17850791, -6.60467837, -5.27666399],\n",
       "       [-7.64772992, -7.12638424, -5.27666399,  0.        ]])"
      ]
     },
     "execution_count": 10,
     "metadata": {},
     "output_type": "execute_result"
    }
   ],
   "source": [
    "import numpy as np\n",
    "a = np.append(values, 0)\n",
    "np.reshape(a, (4,4))"
   ]
  },
  {
   "cell_type": "code",
   "execution_count": 11,
   "metadata": {},
   "outputs": [
    {
     "name": "stdout",
     "output_type": "stream",
     "text": [
      "\n",
      "Testing: Policy Evaluation (in-place)\n",
      "passed test: return value is list\n",
      "passed test: length of list = 15\n",
      "passed test: values of list elements\n",
      "PASSED: Policy Evaluation (in-place) passcode = 9991-562\n"
     ]
    }
   ],
   "source": [
    "test_dp.policy_eval_two_arrays_test( policy_eval_two_arrays ) "
   ]
  },
  {
   "cell_type": "code",
   "execution_count": null,
   "metadata": {},
   "outputs": [],
   "source": []
  },
  {
   "cell_type": "code",
   "execution_count": null,
   "metadata": {},
   "outputs": [],
   "source": []
  },
  {
   "cell_type": "code",
   "execution_count": null,
   "metadata": {},
   "outputs": [],
   "source": []
  }
 ],
 "metadata": {
  "kernelspec": {
   "display_name": "Python 3",
   "language": "python",
   "name": "python3"
  },
  "language_info": {
   "codemirror_mode": {
    "name": "ipython",
    "version": 3
   },
   "file_extension": ".py",
   "mimetype": "text/x-python",
   "name": "python",
   "nbconvert_exporter": "python",
   "pygments_lexer": "ipython3",
   "version": "3.7.0"
  }
 },
 "nbformat": 4,
 "nbformat_minor": 2
}
